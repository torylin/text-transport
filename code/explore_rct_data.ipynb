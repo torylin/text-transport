{
 "cells": [
  {
   "cell_type": "code",
   "execution_count": 31,
   "metadata": {},
   "outputs": [],
   "source": [
    "import pandas as pd\n",
    "import os\n",
    "from nltk import tokenize\n",
    "import numpy as np\n",
    "from tqdm.notebook import tqdm\n",
    "import pickle"
   ]
  },
  {
   "cell_type": "code",
   "execution_count": 2,
   "metadata": {},
   "outputs": [],
   "source": [
    "data_dir = '/home/victorialin/Documents/2022-2023/causal_text/data/hk_rct/'"
   ]
  },
  {
   "cell_type": "code",
   "execution_count": 3,
   "metadata": {},
   "outputs": [
    {
     "data": {
      "text/html": [
       "<div>\n",
       "<style scoped>\n",
       "    .dataframe tbody tr th:only-of-type {\n",
       "        vertical-align: middle;\n",
       "    }\n",
       "\n",
       "    .dataframe tbody tr th {\n",
       "        vertical-align: top;\n",
       "    }\n",
       "\n",
       "    .dataframe thead th {\n",
       "        text-align: right;\n",
       "    }\n",
       "</style>\n",
       "<table border=\"1\" class=\"dataframe\">\n",
       "  <thead>\n",
       "    <tr style=\"text-align: right;\">\n",
       "      <th></th>\n",
       "      <th>resp</th>\n",
       "      <th>numtexts</th>\n",
       "      <th>treatycommit</th>\n",
       "      <th>brave</th>\n",
       "      <th>evil</th>\n",
       "      <th>flag</th>\n",
       "      <th>threat</th>\n",
       "      <th>economy</th>\n",
       "      <th>treatyviolation</th>\n",
       "      <th>resp_id</th>\n",
       "      <th>text1</th>\n",
       "      <th>text2</th>\n",
       "      <th>text3</th>\n",
       "    </tr>\n",
       "  </thead>\n",
       "  <tbody>\n",
       "    <tr>\n",
       "      <th>0</th>\n",
       "      <td>93</td>\n",
       "      <td>3</td>\n",
       "      <td>1</td>\n",
       "      <td>0</td>\n",
       "      <td>0</td>\n",
       "      <td>1</td>\n",
       "      <td>0</td>\n",
       "      <td>1</td>\n",
       "      <td>0</td>\n",
       "      <td>R_b46OCopoP1TEnWF</td>\n",
       "      <td>Some time ago, Congress passed a bill which en...</td>\n",
       "      <td>China is interfering with a long tradition of ...</td>\n",
       "      <td>Many protesters carry American flags to highli...</td>\n",
       "    </tr>\n",
       "    <tr>\n",
       "      <th>1</th>\n",
       "      <td>81</td>\n",
       "      <td>3</td>\n",
       "      <td>1</td>\n",
       "      <td>0</td>\n",
       "      <td>1</td>\n",
       "      <td>1</td>\n",
       "      <td>0</td>\n",
       "      <td>0</td>\n",
       "      <td>0</td>\n",
       "      <td>R_2eaLklv722WwmuO</td>\n",
       "      <td>China is a communist country. Outside of Hong ...</td>\n",
       "      <td>During George H.W. Bush's administration, Cong...</td>\n",
       "      <td>The protesters regularly wave American flags b...</td>\n",
       "    </tr>\n",
       "    <tr>\n",
       "      <th>2</th>\n",
       "      <td>92</td>\n",
       "      <td>3</td>\n",
       "      <td>1</td>\n",
       "      <td>1</td>\n",
       "      <td>0</td>\n",
       "      <td>0</td>\n",
       "      <td>1</td>\n",
       "      <td>0</td>\n",
       "      <td>0</td>\n",
       "      <td>R_2EAK9GXZNVpDynB</td>\n",
       "      <td>China's actions in Hong Kong follow a decade l...</td>\n",
       "      <td>Some protesters have been beaten, imprisoned, ...</td>\n",
       "      <td>During George H.W. Bush's administration, Cong...</td>\n",
       "    </tr>\n",
       "    <tr>\n",
       "      <th>3</th>\n",
       "      <td>100</td>\n",
       "      <td>2</td>\n",
       "      <td>0</td>\n",
       "      <td>1</td>\n",
       "      <td>0</td>\n",
       "      <td>1</td>\n",
       "      <td>0</td>\n",
       "      <td>0</td>\n",
       "      <td>0</td>\n",
       "      <td>R_3NXwIFll6c5goNk</td>\n",
       "      <td>Many protesters carry American flags to demons...</td>\n",
       "      <td>Protesters have been targeted by brutal police...</td>\n",
       "      <td>NaN</td>\n",
       "    </tr>\n",
       "    <tr>\n",
       "      <th>4</th>\n",
       "      <td>85</td>\n",
       "      <td>3</td>\n",
       "      <td>1</td>\n",
       "      <td>1</td>\n",
       "      <td>0</td>\n",
       "      <td>0</td>\n",
       "      <td>0</td>\n",
       "      <td>1</td>\n",
       "      <td>0</td>\n",
       "      <td>R_2R9W6Xk5zXP9MfK</td>\n",
       "      <td>China is interfering with a long tradition of ...</td>\n",
       "      <td>27 years ago, Congress passed the Hong Kong Po...</td>\n",
       "      <td>The Hong Kong protesters face a serious risk o...</td>\n",
       "    </tr>\n",
       "  </tbody>\n",
       "</table>\n",
       "</div>"
      ],
      "text/plain": [
       "   resp  numtexts  treatycommit  brave  evil  flag  threat  economy  \\\n",
       "0    93         3             1      0     0     1       0        1   \n",
       "1    81         3             1      0     1     1       0        0   \n",
       "2    92         3             1      1     0     0       1        0   \n",
       "3   100         2             0      1     0     1       0        0   \n",
       "4    85         3             1      1     0     0       0        1   \n",
       "\n",
       "   treatyviolation            resp_id  \\\n",
       "0                0  R_b46OCopoP1TEnWF   \n",
       "1                0  R_2eaLklv722WwmuO   \n",
       "2                0  R_2EAK9GXZNVpDynB   \n",
       "3                0  R_3NXwIFll6c5goNk   \n",
       "4                0  R_2R9W6Xk5zXP9MfK   \n",
       "\n",
       "                                               text1  \\\n",
       "0  Some time ago, Congress passed a bill which en...   \n",
       "1  China is a communist country. Outside of Hong ...   \n",
       "2  China's actions in Hong Kong follow a decade l...   \n",
       "3  Many protesters carry American flags to demons...   \n",
       "4  China is interfering with a long tradition of ...   \n",
       "\n",
       "                                               text2  \\\n",
       "0  China is interfering with a long tradition of ...   \n",
       "1  During George H.W. Bush's administration, Cong...   \n",
       "2  Some protesters have been beaten, imprisoned, ...   \n",
       "3  Protesters have been targeted by brutal police...   \n",
       "4  27 years ago, Congress passed the Hong Kong Po...   \n",
       "\n",
       "                                               text3  \n",
       "0  Many protesters carry American flags to highli...  \n",
       "1  The protesters regularly wave American flags b...  \n",
       "2  During George H.W. Bush's administration, Cong...  \n",
       "3                                                NaN  \n",
       "4  The Hong Kong protesters face a serious risk o...  "
      ]
     },
     "execution_count": 3,
     "metadata": {},
     "output_type": "execute_result"
    }
   ],
   "source": [
    "df = pd.read_csv(os.path.join(data_dir, 'HKData.csv'))\n",
    "df.head()"
   ]
  },
  {
   "cell_type": "code",
   "execution_count": 4,
   "metadata": {},
   "outputs": [
    {
     "data": {
      "text/plain": [
       "0.5214321734745335"
      ]
     },
     "execution_count": 4,
     "metadata": {},
     "output_type": "execute_result"
    }
   ],
   "source": [
    "df.text3.isna().mean()"
   ]
  },
  {
   "cell_type": "code",
   "execution_count": 5,
   "metadata": {},
   "outputs": [],
   "source": [
    "df['text_full'] = df.text1.fillna('') + ' ' + df.text2.fillna('') + ' ' + df.text3.fillna('')"
   ]
  },
  {
   "cell_type": "code",
   "execution_count": 6,
   "metadata": {},
   "outputs": [
    {
     "data": {
      "text/plain": [
       "0       Some time ago, Congress passed a bill which en...\n",
       "1       China is a communist country. Outside of Hong ...\n",
       "2       China's actions in Hong Kong follow a decade l...\n",
       "3       Many protesters carry American flags to demons...\n",
       "4       China is interfering with a long tradition of ...\n",
       "                              ...                        \n",
       "1978    Some time ago, Congress passed a bill which en...\n",
       "1979    China is building a large number of aircraft c...\n",
       "1980    The Hong Kong protesters risk being beaten, im...\n",
       "1981    China is an authortiarian country with a long ...\n",
       "1982    Hong Kong's special status within China has en...\n",
       "Name: text_full, Length: 1983, dtype: object"
      ]
     },
     "execution_count": 6,
     "metadata": {},
     "output_type": "execute_result"
    }
   ],
   "source": [
    "df['text_full']"
   ]
  },
  {
   "cell_type": "code",
   "execution_count": 7,
   "metadata": {},
   "outputs": [],
   "source": [
    "num_sent = []\n",
    "for text in df['text_full']:\n",
    "    num_sent.append(len(tokenize.sent_tokenize(text)))\n",
    "num_sent = np.array(num_sent)"
   ]
  },
  {
   "cell_type": "code",
   "execution_count": 8,
   "metadata": {},
   "outputs": [
    {
     "data": {
      "text/plain": [
       "2"
      ]
     },
     "execution_count": 8,
     "metadata": {},
     "output_type": "execute_result"
    }
   ],
   "source": [
    "min(num_sent)"
   ]
  },
  {
   "cell_type": "code",
   "execution_count": 9,
   "metadata": {},
   "outputs": [
    {
     "data": {
      "text/plain": [
       "7"
      ]
     },
     "execution_count": 9,
     "metadata": {},
     "output_type": "execute_result"
    }
   ],
   "source": [
    "max(num_sent)"
   ]
  },
  {
   "cell_type": "code",
   "execution_count": 42,
   "metadata": {},
   "outputs": [
    {
     "name": "stdout",
     "output_type": "stream",
     "text": [
      "2 sentences: 0.297528996469995\n",
      "3 sentences: 0.3363590519415028\n",
      "4 sentences: 0.22894604135148763\n",
      "5 sentences: 0.10085728693898134\n",
      "6 sentences: 0.030257186081694403\n",
      "7 sentences: 0.006051437216338881\n",
      "[0.297528996469995, 0.3363590519415028, 0.22894604135148763, 0.10085728693898134, 0.030257186081694403, 0.006051437216338881]\n"
     ]
    }
   ],
   "source": [
    "sample_sent_prop_dict = {}\n",
    "for i in range(2, 8):\n",
    "    print('{} sentences: {}'.format(i, np.mean(num_sent == i)))\n",
    "    sample_sent_prop_dict[i] = np.mean(num_sent == i)\n",
    "np.save(os.path.join(data_dir, 'sample_sent_prop.npy'), list(sample_sent_prop_dict.values()))"
   ]
  },
  {
   "cell_type": "code",
   "execution_count": 11,
   "metadata": {},
   "outputs": [],
   "source": [
    "df_corp = pd.read_pickle(os.path.join(data_dir, 'randomization_corpus.pkl'))"
   ]
  },
  {
   "cell_type": "code",
   "execution_count": 16,
   "metadata": {},
   "outputs": [
    {
     "data": {
      "application/vnd.jupyter.widget-view+json": {
       "model_id": "442e67e2536e44babb0e7e1e4e003e0c",
       "version_major": 2,
       "version_minor": 0
      },
      "text/plain": [
       "  0%|          | 0/3275132 [00:00<?, ?it/s]"
      ]
     },
     "metadata": {},
     "output_type": "display_data"
    }
   ],
   "source": [
    "num_sent2 = []\n",
    "for text in tqdm(df_corp['text_full']):\n",
    "    num_sent2.append(len(tokenize.sent_tokenize(text)))\n",
    "num_sent2 = np.array(num_sent2)"
   ]
  },
  {
   "cell_type": "code",
   "execution_count": 17,
   "metadata": {},
   "outputs": [
    {
     "data": {
      "text/plain": [
       "2"
      ]
     },
     "execution_count": 17,
     "metadata": {},
     "output_type": "execute_result"
    }
   ],
   "source": [
    "min(num_sent2)"
   ]
  },
  {
   "cell_type": "code",
   "execution_count": 18,
   "metadata": {},
   "outputs": [
    {
     "data": {
      "text/plain": [
       "8"
      ]
     },
     "execution_count": 18,
     "metadata": {},
     "output_type": "execute_result"
    }
   ],
   "source": [
    "max(num_sent2)"
   ]
  },
  {
   "cell_type": "code",
   "execution_count": 44,
   "metadata": {},
   "outputs": [
    {
     "name": "stdout",
     "output_type": "stream",
     "text": [
      "2 sentences: 0.0049005658397890525\n",
      "3 sentences: 0.3890145496425793\n",
      "4 sentences: 0.34570209689258324\n",
      "5 sentences: 0.19376440399959452\n",
      "6 sentences: 0.05676595630344059\n",
      "7 sentences: 0.009000553260143408\n",
      "8 sentences: 0.0008518740618698727\n"
     ]
    }
   ],
   "source": [
    "full_sent_prop_dict = {}\n",
    "for i in range(2, 9):\n",
    "    print('{} sentences: {}'.format(i, np.mean(num_sent2 == i)))\n",
    "    full_sent_prop_dict[i] = np.mean(num_sent2 == i)\n",
    "np.save(os.path.join(data_dir, 'full_sent_prop.npy'), list(full_sent_prop_dict.values()))"
   ]
  },
  {
   "cell_type": "code",
   "execution_count": 26,
   "metadata": {},
   "outputs": [
    {
     "name": "stdout",
     "output_type": "stream",
     "text": [
      "treatycommit: 0.8275340393343419\n",
      "brave: 0.28240040342914774\n",
      "evil: 0.2788703983862834\n",
      "flag: 0.2859304084720121\n",
      "threat: 0.27281896116994453\n",
      "economy: 0.26777609682299547\n",
      "treatyviolation: 0.2632375189107413\n"
     ]
    }
   ],
   "source": [
    "for col in df.columns[2:9]:\n",
    "    print('{}: {}'.format(col, df[col].mean()))"
   ]
  },
  {
   "cell_type": "code",
   "execution_count": 29,
   "metadata": {},
   "outputs": [
    {
     "name": "stdout",
     "output_type": "stream",
     "text": [
      "brave: 0.36148588820236865\n",
      "economy: 0.3283745510104631\n",
      "evil: 0.3923646436235242\n",
      "flag: 0.31095418444203166\n",
      "threat: 0.40699428297851814\n",
      "treatyobligation: 0.8136465950074684\n",
      "treatyviolation: 0.3771988426726007\n"
     ]
    }
   ],
   "source": [
    "for col in df_corp.columns[1:8]:\n",
    "    print('{}: {}'.format(col, df_corp[col].mean()))"
   ]
  },
  {
   "cell_type": "code",
   "execution_count": null,
   "metadata": {},
   "outputs": [],
   "source": []
  }
 ],
 "metadata": {
  "kernelspec": {
   "display_name": "dclf",
   "language": "python",
   "name": "python3"
  },
  "language_info": {
   "codemirror_mode": {
    "name": "ipython",
    "version": 3
   },
   "file_extension": ".py",
   "mimetype": "text/x-python",
   "name": "python",
   "nbconvert_exporter": "python",
   "pygments_lexer": "ipython3",
   "version": "3.9.12"
  },
  "orig_nbformat": 4,
  "vscode": {
   "interpreter": {
    "hash": "33b77d901683ae626edc66cd68c3353a2a376bf220867474f384e9b4c792a931"
   }
  }
 },
 "nbformat": 4,
 "nbformat_minor": 2
}
