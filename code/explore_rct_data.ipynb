{
 "cells": [
  {
   "cell_type": "code",
   "execution_count": 1,
   "metadata": {},
   "outputs": [],
   "source": [
    "import pandas as pd\n",
    "import os\n",
    "from nltk import tokenize\n",
    "import numpy as np\n",
    "from tqdm.notebook import tqdm\n",
    "import pickle"
   ]
  },
  {
   "cell_type": "code",
   "execution_count": 55,
   "metadata": {},
   "outputs": [],
   "source": [
    "data_dir = '/home/victorialin/Documents/2022-2023/causal_text/data/hk_rct/'"
   ]
  },
  {
   "cell_type": "code",
   "execution_count": 56,
   "metadata": {},
   "outputs": [
    {
     "data": {
      "text/html": [
       "<div>\n",
       "<style scoped>\n",
       "    .dataframe tbody tr th:only-of-type {\n",
       "        vertical-align: middle;\n",
       "    }\n",
       "\n",
       "    .dataframe tbody tr th {\n",
       "        vertical-align: top;\n",
       "    }\n",
       "\n",
       "    .dataframe thead th {\n",
       "        text-align: right;\n",
       "    }\n",
       "</style>\n",
       "<table border=\"1\" class=\"dataframe\">\n",
       "  <thead>\n",
       "    <tr style=\"text-align: right;\">\n",
       "      <th></th>\n",
       "      <th>resp</th>\n",
       "      <th>numtexts</th>\n",
       "      <th>treatycommit</th>\n",
       "      <th>brave</th>\n",
       "      <th>evil</th>\n",
       "      <th>flag</th>\n",
       "      <th>threat</th>\n",
       "      <th>economy</th>\n",
       "      <th>treatyviolation</th>\n",
       "      <th>resp_id</th>\n",
       "      <th>text1</th>\n",
       "      <th>text2</th>\n",
       "      <th>text3</th>\n",
       "    </tr>\n",
       "  </thead>\n",
       "  <tbody>\n",
       "    <tr>\n",
       "      <th>0</th>\n",
       "      <td>100</td>\n",
       "      <td>2</td>\n",
       "      <td>1</td>\n",
       "      <td>0</td>\n",
       "      <td>0</td>\n",
       "      <td>0</td>\n",
       "      <td>0</td>\n",
       "      <td>0</td>\n",
       "      <td>1</td>\n",
       "      <td>R_2coszsxfzydiWYf</td>\n",
       "      <td>Chinese actions violate the terms of the agree...</td>\n",
       "      <td>27 years ago, Congress passed a bill which ens...</td>\n",
       "      <td>NaN</td>\n",
       "    </tr>\n",
       "    <tr>\n",
       "      <th>1</th>\n",
       "      <td>52</td>\n",
       "      <td>2</td>\n",
       "      <td>0</td>\n",
       "      <td>0</td>\n",
       "      <td>0</td>\n",
       "      <td>0</td>\n",
       "      <td>0</td>\n",
       "      <td>0</td>\n",
       "      <td>0</td>\n",
       "      <td>R_3gLu4Ku1WjTspHA</td>\n",
       "      <td>When Britain ceded Hong Kong to China in 1997,...</td>\n",
       "      <td>China's crackdown in Hong Kong follows decades...</td>\n",
       "      <td>NaN</td>\n",
       "    </tr>\n",
       "    <tr>\n",
       "      <th>2</th>\n",
       "      <td>60</td>\n",
       "      <td>3</td>\n",
       "      <td>0</td>\n",
       "      <td>0</td>\n",
       "      <td>1</td>\n",
       "      <td>1</td>\n",
       "      <td>1</td>\n",
       "      <td>0</td>\n",
       "      <td>0</td>\n",
       "      <td>R_1mFxebzrNoOkZtG</td>\n",
       "      <td>Many protesters carry American flags because t...</td>\n",
       "      <td>China is building a large number of aircraft c...</td>\n",
       "      <td>China is an authoritarian country with a long ...</td>\n",
       "    </tr>\n",
       "    <tr>\n",
       "      <th>3</th>\n",
       "      <td>51</td>\n",
       "      <td>3</td>\n",
       "      <td>0</td>\n",
       "      <td>0</td>\n",
       "      <td>0</td>\n",
       "      <td>0</td>\n",
       "      <td>1</td>\n",
       "      <td>1</td>\n",
       "      <td>1</td>\n",
       "      <td>R_3ezaOvQYJ3RgPMf</td>\n",
       "      <td>The protesters claim that China's actions viol...</td>\n",
       "      <td>China is interfering with a long tradition of ...</td>\n",
       "      <td>China's crackdown in Hong Kong follows a decad...</td>\n",
       "    </tr>\n",
       "    <tr>\n",
       "      <th>4</th>\n",
       "      <td>70</td>\n",
       "      <td>3</td>\n",
       "      <td>0</td>\n",
       "      <td>1</td>\n",
       "      <td>1</td>\n",
       "      <td>0</td>\n",
       "      <td>1</td>\n",
       "      <td>0</td>\n",
       "      <td>0</td>\n",
       "      <td>R_3JxSRbCs7rYUzND</td>\n",
       "      <td>China is an authoritarian country also accused...</td>\n",
       "      <td>The Hong Kong protesters face a serious risk o...</td>\n",
       "      <td>China's actions in Hong Kong may foreshadow ag...</td>\n",
       "    </tr>\n",
       "  </tbody>\n",
       "</table>\n",
       "</div>"
      ],
      "text/plain": [
       "   resp  numtexts  treatycommit  brave  evil  flag  threat  economy  \\\n",
       "0   100         2             1      0     0     0       0        0   \n",
       "1    52         2             0      0     0     0       0        0   \n",
       "2    60         3             0      0     1     1       1        0   \n",
       "3    51         3             0      0     0     0       1        1   \n",
       "4    70         3             0      1     1     0       1        0   \n",
       "\n",
       "   treatyviolation            resp_id  \\\n",
       "0                1  R_2coszsxfzydiWYf   \n",
       "1                0  R_3gLu4Ku1WjTspHA   \n",
       "2                0  R_1mFxebzrNoOkZtG   \n",
       "3                1  R_3ezaOvQYJ3RgPMf   \n",
       "4                0  R_3JxSRbCs7rYUzND   \n",
       "\n",
       "                                               text1  \\\n",
       "0  Chinese actions violate the terms of the agree...   \n",
       "1  When Britain ceded Hong Kong to China in 1997,...   \n",
       "2  Many protesters carry American flags because t...   \n",
       "3  The protesters claim that China's actions viol...   \n",
       "4  China is an authoritarian country also accused...   \n",
       "\n",
       "                                               text2  \\\n",
       "0  27 years ago, Congress passed a bill which ens...   \n",
       "1  China's crackdown in Hong Kong follows decades...   \n",
       "2  China is building a large number of aircraft c...   \n",
       "3  China is interfering with a long tradition of ...   \n",
       "4  The Hong Kong protesters face a serious risk o...   \n",
       "\n",
       "                                               text3  \n",
       "0                                                NaN  \n",
       "1                                                NaN  \n",
       "2  China is an authoritarian country with a long ...  \n",
       "3  China's crackdown in Hong Kong follows a decad...  \n",
       "4  China's actions in Hong Kong may foreshadow ag...  "
      ]
     },
     "execution_count": 56,
     "metadata": {},
     "output_type": "execute_result"
    }
   ],
   "source": [
    "df = pd.read_csv(os.path.join(data_dir, 'HKRepData.csv'))\n",
    "df.head()"
   ]
  },
  {
   "cell_type": "code",
   "execution_count": 50,
   "metadata": {},
   "outputs": [
    {
     "data": {
      "text/plain": [
       "2.5187617260787993"
      ]
     },
     "execution_count": 50,
     "metadata": {},
     "output_type": "execute_result"
    }
   ],
   "source": [
    "df[df.treatycommit == 1].numtexts.mean()"
   ]
  },
  {
   "cell_type": "code",
   "execution_count": 4,
   "metadata": {},
   "outputs": [
    {
     "data": {
      "text/plain": [
       "0.5214321734745335"
      ]
     },
     "execution_count": 4,
     "metadata": {},
     "output_type": "execute_result"
    }
   ],
   "source": [
    "df.text3.isna().mean()"
   ]
  },
  {
   "cell_type": "code",
   "execution_count": 5,
   "metadata": {},
   "outputs": [],
   "source": [
    "df['text_full'] = df.text1.fillna('') + ' ' + df.text2.fillna('') + ' ' + df.text3.fillna('')"
   ]
  },
  {
   "cell_type": "code",
   "execution_count": 6,
   "metadata": {},
   "outputs": [
    {
     "data": {
      "text/plain": [
       "0       Some time ago, Congress passed a bill which en...\n",
       "1       China is a communist country. Outside of Hong ...\n",
       "2       China's actions in Hong Kong follow a decade l...\n",
       "3       Many protesters carry American flags to demons...\n",
       "4       China is interfering with a long tradition of ...\n",
       "                              ...                        \n",
       "1978    Some time ago, Congress passed a bill which en...\n",
       "1979    China is building a large number of aircraft c...\n",
       "1980    The Hong Kong protesters risk being beaten, im...\n",
       "1981    China is an authortiarian country with a long ...\n",
       "1982    Hong Kong's special status within China has en...\n",
       "Name: text_full, Length: 1983, dtype: object"
      ]
     },
     "execution_count": 6,
     "metadata": {},
     "output_type": "execute_result"
    }
   ],
   "source": [
    "df['text_full']"
   ]
  },
  {
   "cell_type": "code",
   "execution_count": 7,
   "metadata": {},
   "outputs": [],
   "source": [
    "num_sent = []\n",
    "for text in df['text_full']:\n",
    "    num_sent.append(len(tokenize.sent_tokenize(text)))\n",
    "num_sent = np.array(num_sent)"
   ]
  },
  {
   "cell_type": "code",
   "execution_count": 8,
   "metadata": {},
   "outputs": [
    {
     "data": {
      "text/plain": [
       "2"
      ]
     },
     "execution_count": 8,
     "metadata": {},
     "output_type": "execute_result"
    }
   ],
   "source": [
    "min(num_sent)"
   ]
  },
  {
   "cell_type": "code",
   "execution_count": 9,
   "metadata": {},
   "outputs": [
    {
     "data": {
      "text/plain": [
       "7"
      ]
     },
     "execution_count": 9,
     "metadata": {},
     "output_type": "execute_result"
    }
   ],
   "source": [
    "max(num_sent)"
   ]
  },
  {
   "cell_type": "code",
   "execution_count": 10,
   "metadata": {},
   "outputs": [
    {
     "name": "stdout",
     "output_type": "stream",
     "text": [
      "2 sentences: 0.297528996469995\n",
      "3 sentences: 0.3363590519415028\n",
      "4 sentences: 0.22894604135148763\n",
      "5 sentences: 0.10085728693898134\n",
      "6 sentences: 0.030257186081694403\n",
      "7 sentences: 0.006051437216338881\n"
     ]
    }
   ],
   "source": [
    "sample_sent_prop_dict = {}\n",
    "for i in range(2, 8):\n",
    "    print('{} sentences: {}'.format(i, np.mean(num_sent == i)))\n",
    "    sample_sent_prop_dict[i] = np.mean(num_sent == i)\n",
    "np.save(os.path.join(data_dir, 'sample_sent_prop.npy'), list(sample_sent_prop_dict.values()))"
   ]
  },
  {
   "cell_type": "code",
   "execution_count": 70,
   "metadata": {},
   "outputs": [],
   "source": [
    "df_corp = pd.read_pickle(os.path.join(data_dir, 'randomization_corpus_random_sample.pkl'))"
   ]
  },
  {
   "cell_type": "code",
   "execution_count": 71,
   "metadata": {},
   "outputs": [
    {
     "data": {
      "text/plain": [
       "(100000, 12)"
      ]
     },
     "execution_count": 71,
     "metadata": {},
     "output_type": "execute_result"
    }
   ],
   "source": [
    "df_corp.shape"
   ]
  },
  {
   "cell_type": "code",
   "execution_count": 72,
   "metadata": {},
   "outputs": [
    {
     "data": {
      "application/vnd.jupyter.widget-view+json": {
       "model_id": "f6a2e59233c241f69f46f5c455d06939",
       "version_major": 2,
       "version_minor": 0
      },
      "text/plain": [
       "  0%|          | 0/100000 [00:00<?, ?it/s]"
      ]
     },
     "metadata": {},
     "output_type": "display_data"
    }
   ],
   "source": [
    "num_sent2 = []\n",
    "for text in tqdm(df_corp['text_full']):\n",
    "    num_sent2.append(len(tokenize.sent_tokenize(text)))\n",
    "num_sent2 = np.array(num_sent2)"
   ]
  },
  {
   "cell_type": "code",
   "execution_count": 73,
   "metadata": {},
   "outputs": [
    {
     "data": {
      "text/plain": [
       "2"
      ]
     },
     "execution_count": 73,
     "metadata": {},
     "output_type": "execute_result"
    }
   ],
   "source": [
    "min(num_sent2)"
   ]
  },
  {
   "cell_type": "code",
   "execution_count": 74,
   "metadata": {},
   "outputs": [
    {
     "data": {
      "text/plain": [
       "6"
      ]
     },
     "execution_count": 74,
     "metadata": {},
     "output_type": "execute_result"
    }
   ],
   "source": [
    "max(num_sent2)"
   ]
  },
  {
   "cell_type": "code",
   "execution_count": 75,
   "metadata": {},
   "outputs": [
    {
     "name": "stdout",
     "output_type": "stream",
     "text": [
      "2 sentences: 0.22364\n",
      "3 sentences: 0.36938\n",
      "4 sentences: 0.27758\n",
      "5 sentences: 0.11013\n",
      "6 sentences: 0.01927\n",
      "7 sentences: 0.0\n",
      "8 sentences: 0.0\n"
     ]
    }
   ],
   "source": [
    "full_sent_prop_dict = {}\n",
    "for i in range(2, 9):\n",
    "    print('{} sentences: {}'.format(i, np.mean(num_sent2 == i)))\n",
    "    full_sent_prop_dict[i] = np.mean(num_sent2 == i)\n",
    "np.save(os.path.join(data_dir, 'full_sent_prop.npy'), list(full_sent_prop_dict.values()))"
   ]
  },
  {
   "cell_type": "code",
   "execution_count": 68,
   "metadata": {},
   "outputs": [
    {
     "name": "stdout",
     "output_type": "stream",
     "text": [
      "treatycommit: 0.5144787644787645\n",
      "brave: 0.2528957528957529\n",
      "evil: 0.2475868725868726\n",
      "flag: 0.23455598455598456\n",
      "threat: 0.26640926640926643\n",
      "economy: 0.2668918918918919\n",
      "treatyviolation: 0.25096525096525096\n"
     ]
    }
   ],
   "source": [
    "for col in df.columns[2:9]:\n",
    "    print('{}: {}'.format(col, df[col].mean()))"
   ]
  },
  {
   "cell_type": "code",
   "execution_count": 69,
   "metadata": {},
   "outputs": [
    {
     "name": "stdout",
     "output_type": "stream",
     "text": [
      "brave: 0.28964\n",
      "economy: 0.2922\n",
      "evil: 0.28871\n",
      "flag: 0.29073\n",
      "threat: 0.29173\n",
      "treatyobligation: 0.49952\n",
      "treatyviolation: 0.29191\n"
     ]
    }
   ],
   "source": [
    "for col in df_corp.columns[4:11]:\n",
    "    print('{}: {}'.format(col, df_corp[col].mean()))"
   ]
  },
  {
   "cell_type": "code",
   "execution_count": 53,
   "metadata": {},
   "outputs": [
    {
     "data": {
      "text/plain": [
       "2.49989"
      ]
     },
     "execution_count": 53,
     "metadata": {},
     "output_type": "execute_result"
    }
   ],
   "source": [
    "df_corp.numtexts.mean()"
   ]
  },
  {
   "cell_type": "code",
   "execution_count": 54,
   "metadata": {},
   "outputs": [
    {
     "data": {
      "text/plain": [
       "2.492760617760618"
      ]
     },
     "execution_count": 54,
     "metadata": {},
     "output_type": "execute_result"
    }
   ],
   "source": [
    "df.numtexts.mean()"
   ]
  },
  {
   "cell_type": "code",
   "execution_count": null,
   "metadata": {},
   "outputs": [],
   "source": []
  }
 ],
 "metadata": {
  "kernelspec": {
   "display_name": "dclf",
   "language": "python",
   "name": "python3"
  },
  "language_info": {
   "codemirror_mode": {
    "name": "ipython",
    "version": 3
   },
   "file_extension": ".py",
   "mimetype": "text/x-python",
   "name": "python",
   "nbconvert_exporter": "python",
   "pygments_lexer": "ipython3",
   "version": "3.9.12"
  },
  "orig_nbformat": 4,
  "vscode": {
   "interpreter": {
    "hash": "33b77d901683ae626edc66cd68c3353a2a376bf220867474f384e9b4c792a931"
   }
  }
 },
 "nbformat": 4,
 "nbformat_minor": 2
}
